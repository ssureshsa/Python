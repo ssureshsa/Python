{
 "cells": [
  {
   "cell_type": "code",
   "execution_count": 2,
   "id": "ea0efaa9",
   "metadata": {},
   "outputs": [
    {
     "name": "stdout",
     "output_type": "stream",
     "text": [
      "The even numbers from the list are: [2, 4, 6, 76, 8, 10]\n",
      "The odd numbers from the list are: [1, 5, 9]\n"
     ]
    }
   ],
   "source": [
    "# using lambda print list of even and odd numbers from this list\n",
    "# Using FILTER to filter the list. Filter takes two arguments (func, iterable)\n",
    "\n",
    "list1=[1,2,4,5,6,76,8,9,10]\n",
    "\n",
    "evens=list(filter(lambda n:n%2==0,list1))\n",
    "print(\"The even numbers from the list are:\",evens)\n",
    "\n",
    "odds=list(filter(lambda n:n%2!=0,list1))\n",
    "print(\"The odd numbers from the list are:\",odds)\n"
   ]
  },
  {
   "cell_type": "code",
   "execution_count": 8,
   "id": "13b5865f",
   "metadata": {},
   "outputs": [
    {
     "name": "stdout",
     "output_type": "stream",
     "text": [
      "[2, 4, 8, 10, 12, 152, 16, 18, 20]\n"
     ]
    }
   ],
   "source": [
    "# Using Map to change the value(Add, multiply or double) the list. Map takes two arguments (func, value/arg)\n",
    "\n",
    "doubles=list(map(lambda n:n*2,list1))\n",
    "print(doubles)"
   ]
  },
  {
   "cell_type": "code",
   "execution_count": 12,
   "id": "c92e4e02",
   "metadata": {},
   "outputs": [
    {
     "name": "stdout",
     "output_type": "stream",
     "text": [
      "121\n"
     ]
    }
   ],
   "source": [
    "# Using Reduce to may be get one value from the list. To use reduce, we need to sometimes use import reduce and functools to use it\n",
    "# this REDUCE also takes two args, (func, sequence)\n",
    "from functools import reduce\n",
    "sum=reduce(lambda a,b:a+b,list1)\n",
    "print(sum)"
   ]
  },
  {
   "cell_type": "code",
   "execution_count": 17,
   "id": "45356da4",
   "metadata": {},
   "outputs": [
    {
     "name": "stdout",
     "output_type": "stream",
     "text": [
      "12\n"
     ]
    }
   ],
   "source": [
    "#Summarize argument a, b, and c and return the result:\n",
    "\n",
    "x= lambda a,b,c:a+b+c\n",
    "print(x(5,3,4))"
   ]
  },
  {
   "cell_type": "code",
   "execution_count": null,
   "id": "32313dc0",
   "metadata": {},
   "outputs": [],
   "source": []
  },
  {
   "cell_type": "code",
   "execution_count": null,
   "id": "32a21d32",
   "metadata": {},
   "outputs": [],
   "source": []
  },
  {
   "cell_type": "code",
   "execution_count": null,
   "id": "51acd5b1",
   "metadata": {},
   "outputs": [],
   "source": []
  },
  {
   "cell_type": "code",
   "execution_count": null,
   "id": "438d4e33",
   "metadata": {},
   "outputs": [],
   "source": []
  },
  {
   "cell_type": "code",
   "execution_count": null,
   "id": "efdb2b29",
   "metadata": {},
   "outputs": [],
   "source": []
  },
  {
   "cell_type": "code",
   "execution_count": null,
   "id": "b544e16b",
   "metadata": {},
   "outputs": [],
   "source": []
  },
  {
   "cell_type": "code",
   "execution_count": null,
   "id": "f9f400a6",
   "metadata": {},
   "outputs": [],
   "source": []
  },
  {
   "cell_type": "code",
   "execution_count": null,
   "id": "4baa01c4",
   "metadata": {},
   "outputs": [],
   "source": []
  },
  {
   "cell_type": "code",
   "execution_count": null,
   "id": "7da21fd3",
   "metadata": {},
   "outputs": [],
   "source": []
  },
  {
   "cell_type": "code",
   "execution_count": null,
   "id": "a1ee656d",
   "metadata": {},
   "outputs": [],
   "source": []
  },
  {
   "cell_type": "code",
   "execution_count": null,
   "id": "0cc1b723",
   "metadata": {},
   "outputs": [],
   "source": []
  },
  {
   "cell_type": "code",
   "execution_count": null,
   "id": "1633e5ee",
   "metadata": {},
   "outputs": [],
   "source": []
  },
  {
   "cell_type": "code",
   "execution_count": null,
   "id": "ff4d2ebf",
   "metadata": {},
   "outputs": [],
   "source": []
  },
  {
   "cell_type": "code",
   "execution_count": null,
   "id": "936fed37",
   "metadata": {},
   "outputs": [],
   "source": []
  }
 ],
 "metadata": {
  "kernelspec": {
   "display_name": "Python 3",
   "language": "python",
   "name": "python3"
  },
  "language_info": {
   "codemirror_mode": {
    "name": "ipython",
    "version": 3
   },
   "file_extension": ".py",
   "mimetype": "text/x-python",
   "name": "python",
   "nbconvert_exporter": "python",
   "pygments_lexer": "ipython3",
   "version": "3.8.8"
  }
 },
 "nbformat": 4,
 "nbformat_minor": 5
}
